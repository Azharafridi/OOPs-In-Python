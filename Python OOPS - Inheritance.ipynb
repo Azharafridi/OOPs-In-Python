{
 "cells": [
  {
   "cell_type": "markdown",
   "id": "73f188d7",
   "metadata": {},
   "source": [
    "### Python oops inheritance"
   ]
  },
  {
   "cell_type": "code",
   "execution_count": 5,
   "id": "6635d2df",
   "metadata": {},
   "outputs": [],
   "source": [
    "# all the class variables are public\n",
    "# Car Blueprint\n",
    "class Car:\n",
    "    # constructor \n",
    "    def __init__(self,windows, doors, enginetype):\n",
    "        self.windows = windows\n",
    "        self.doors = doors\n",
    "        self.enginetype = enginetype\n",
    "        \n",
    "        \n",
    "    def drive(self):\n",
    "        print(\"The Person drives the car\")"
   ]
  },
  {
   "cell_type": "code",
   "execution_count": 6,
   "id": "2abe19e3",
   "metadata": {},
   "outputs": [],
   "source": [
    "car = Car(4,5, \"diesel\")"
   ]
  },
  {
   "cell_type": "code",
   "execution_count": 8,
   "id": "11807cde",
   "metadata": {},
   "outputs": [
    {
     "data": {
      "text/plain": [
       "4"
      ]
     },
     "execution_count": 8,
     "metadata": {},
     "output_type": "execute_result"
    }
   ],
   "source": [
    "car.windows\n"
   ]
  },
  {
   "cell_type": "code",
   "execution_count": 9,
   "id": "60af5995",
   "metadata": {},
   "outputs": [
    {
     "name": "stdout",
     "output_type": "stream",
     "text": [
      "The Person drives the car\n"
     ]
    }
   ],
   "source": [
    "car.drive()"
   ]
  },
  {
   "cell_type": "code",
   "execution_count": 15,
   "id": "b66b7b94",
   "metadata": {},
   "outputs": [],
   "source": [
    "# most of the fucntionality is same so it will inherite the car class\n",
    "\n",
    "class Audi(Car):\n",
    "    def __init__(self,windows, doors, enginetype, enableai):\n",
    "        super().__init__(windows, doors, enginetype) # iniliazation constructor with all these particular parameters\n",
    "        self.enableai = enableai\n",
    "    def self_driving(self):\n",
    "        print(\"Audi supports self driving\")\n",
    "    \n",
    "    \n",
    "    "
   ]
  },
  {
   "cell_type": "code",
   "execution_count": 19,
   "id": "581604b2",
   "metadata": {},
   "outputs": [],
   "source": [
    "audiQ7 = Audi(5,5, \"diesel\", True)\n"
   ]
  },
  {
   "cell_type": "code",
   "execution_count": 21,
   "id": "fcf6890c",
   "metadata": {},
   "outputs": [
    {
     "data": {
      "text/plain": [
       "5"
      ]
     },
     "execution_count": 21,
     "metadata": {},
     "output_type": "execute_result"
    }
   ],
   "source": [
    "audiQ7.doors"
   ]
  },
  {
   "cell_type": "code",
   "execution_count": 22,
   "id": "5bd0c9f0",
   "metadata": {},
   "outputs": [
    {
     "data": {
      "text/plain": [
       "5"
      ]
     },
     "execution_count": 22,
     "metadata": {},
     "output_type": "execute_result"
    }
   ],
   "source": [
    "audiQ7.windows"
   ]
  },
  {
   "cell_type": "code",
   "execution_count": 23,
   "id": "9394a192",
   "metadata": {},
   "outputs": [
    {
     "name": "stdout",
     "output_type": "stream",
     "text": [
      "Audi supports self driving\n"
     ]
    }
   ],
   "source": [
    "audiQ7.self_driving()"
   ]
  },
  {
   "cell_type": "code",
   "execution_count": null,
   "id": "14568084",
   "metadata": {},
   "outputs": [],
   "source": []
  }
 ],
 "metadata": {
  "kernelspec": {
   "display_name": "Python 3 (ipykernel)",
   "language": "python",
   "name": "python3"
  },
  "language_info": {
   "codemirror_mode": {
    "name": "ipython",
    "version": 3
   },
   "file_extension": ".py",
   "mimetype": "text/x-python",
   "name": "python",
   "nbconvert_exporter": "python",
   "pygments_lexer": "ipython3",
   "version": "3.10.9"
  }
 },
 "nbformat": 4,
 "nbformat_minor": 5
}
