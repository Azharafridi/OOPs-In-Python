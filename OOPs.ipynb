{
 "cells": [
  {
   "cell_type": "markdown",
   "id": "49f96d7a",
   "metadata": {},
   "source": [
    "### OOPS IN PYTHON\n"
   ]
  },
  {
   "cell_type": "code",
   "execution_count": 11,
   "id": "0ab54ba2",
   "metadata": {},
   "outputs": [],
   "source": [
    "# all the class variables are public\n",
    "class Car:\n",
    "    # constructor \n",
    "    def __init__(self,window, door, enginetype):\n",
    "        self.windows = window\n",
    "        self.doors = door\n",
    "        self.enginetype = enginetype\n",
    "        \n",
    "        \n"
   ]
  },
  {
   "cell_type": "code",
   "execution_count": 15,
   "id": "574b45c9",
   "metadata": {},
   "outputs": [],
   "source": [
    "#intialize an instances from the class Car\n",
    "car1 = Car(4, 5, \"petrol\")"
   ]
  },
  {
   "cell_type": "code",
   "execution_count": 14,
   "id": "1d5673c9",
   "metadata": {},
   "outputs": [],
   "source": [
    "#car1.self_driving()"
   ]
  },
  {
   "cell_type": "code",
   "execution_count": 16,
   "id": "5f0553d4",
   "metadata": {},
   "outputs": [
    {
     "data": {
      "text/plain": [
       "['__class__',\n",
       " '__delattr__',\n",
       " '__dict__',\n",
       " '__dir__',\n",
       " '__doc__',\n",
       " '__eq__',\n",
       " '__format__',\n",
       " '__ge__',\n",
       " '__getattribute__',\n",
       " '__gt__',\n",
       " '__hash__',\n",
       " '__init__',\n",
       " '__init_subclass__',\n",
       " '__le__',\n",
       " '__lt__',\n",
       " '__module__',\n",
       " '__ne__',\n",
       " '__new__',\n",
       " '__reduce__',\n",
       " '__reduce_ex__',\n",
       " '__repr__',\n",
       " '__setattr__',\n",
       " '__sizeof__',\n",
       " '__str__',\n",
       " '__subclasshook__',\n",
       " '__weakref__',\n",
       " 'doors',\n",
       " 'enginetype',\n",
       " 'windows']"
      ]
     },
     "execution_count": 16,
     "metadata": {},
     "output_type": "execute_result"
    }
   ],
   "source": [
    "dir(car1)"
   ]
  },
  {
   "cell_type": "code",
   "execution_count": 29,
   "id": "19b6fa27",
   "metadata": {},
   "outputs": [],
   "source": [
    "car2 = Car(3, 4, \"diesel\")"
   ]
  },
  {
   "cell_type": "code",
   "execution_count": 30,
   "id": "e41dabc5",
   "metadata": {},
   "outputs": [
    {
     "data": {
      "text/plain": [
       "4"
      ]
     },
     "execution_count": 30,
     "metadata": {},
     "output_type": "execute_result"
    }
   ],
   "source": [
    "car1.windows"
   ]
  },
  {
   "cell_type": "code",
   "execution_count": 31,
   "id": "e7401650",
   "metadata": {},
   "outputs": [
    {
     "data": {
      "text/plain": [
       "'This is a diesel car'"
      ]
     },
     "execution_count": 31,
     "metadata": {},
     "output_type": "execute_result"
    }
   ],
   "source": [
    "car2.self_driving()"
   ]
  },
  {
   "cell_type": "code",
   "execution_count": 16,
   "id": "effac7eb",
   "metadata": {},
   "outputs": [
    {
     "name": "stdout",
     "output_type": "stream",
     "text": [
      "diesel\n"
     ]
    }
   ],
   "source": [
    "print(car2.enginetype)"
   ]
  },
  {
   "cell_type": "code",
   "execution_count": null,
   "id": "573994d0",
   "metadata": {},
   "outputs": [],
   "source": []
  },
  {
   "cell_type": "code",
   "execution_count": null,
   "id": "85e8d737",
   "metadata": {},
   "outputs": [],
   "source": []
  },
  {
   "cell_type": "code",
   "execution_count": 4,
   "id": "62d8d071",
   "metadata": {},
   "outputs": [],
   "source": [
    "# some properties \n",
    "car1.windows = 5\n",
    "car1.doors = 4\n"
   ]
  },
  {
   "cell_type": "code",
   "execution_count": 5,
   "id": "828aabde",
   "metadata": {},
   "outputs": [
    {
     "name": "stdout",
     "output_type": "stream",
     "text": [
      "5\n"
     ]
    }
   ],
   "source": [
    "print(car1.windows)"
   ]
  },
  {
   "cell_type": "code",
   "execution_count": 6,
   "id": "163caca5",
   "metadata": {},
   "outputs": [],
   "source": [
    "# another instance of the car class\n",
    "car2 = Car()\n"
   ]
  },
  {
   "cell_type": "code",
   "execution_count": 7,
   "id": "26cde82a",
   "metadata": {},
   "outputs": [],
   "source": [
    "car2.windows = 3\n",
    "car2.doors = 2\n"
   ]
  },
  {
   "cell_type": "code",
   "execution_count": 11,
   "id": "ebdbbd74",
   "metadata": {},
   "outputs": [
    {
     "name": "stdout",
     "output_type": "stream",
     "text": [
      "the car 2 has  3  windows\n"
     ]
    }
   ],
   "source": [
    "print(\"the car 2 has \", car2.windows,\" windows\")"
   ]
  },
  {
   "cell_type": "code",
   "execution_count": null,
   "id": "8c08af18",
   "metadata": {},
   "outputs": [],
   "source": [
    "# some attributes of the car2 \n",
    "car2.enginetype = 'type'"
   ]
  },
  {
   "cell_type": "markdown",
   "id": "a28f0122",
   "metadata": {},
   "source": [
    "# Python OOPS - Public, Protected And Private\n"
   ]
  },
  {
   "cell_type": "code",
   "execution_count": 6,
   "id": "8f95ec3e",
   "metadata": {},
   "outputs": [],
   "source": [
    "# all the class variables are protected the underscore before variables \n",
    "# make the variables protected. Protected variables are written for child class\n",
    "# protect mean that we can only access and modify only in the subclass  \n",
    "\n",
    "class Car:\n",
    "    # constructor \n",
    "    def __init__(self,window, door, enginetype):\n",
    "        self._windows = window\n",
    "        self._doors = door\n",
    "        self._enginetype = enginetype\n",
    "        \n",
    "        \n"
   ]
  },
  {
   "cell_type": "code",
   "execution_count": 27,
   "id": "92cd0d00",
   "metadata": {},
   "outputs": [],
   "source": [
    "class Truck(Car):\n",
    "    def __init__(self, windows, doors,enginetype, horsepower):\n",
    "        super().__init__(windows, doors, enginetype)\n",
    "        self.horsepowwer = horsepower"
   ]
  },
  {
   "cell_type": "code",
   "execution_count": 28,
   "id": "3a4cc37f",
   "metadata": {},
   "outputs": [],
   "source": [
    "truck = Truck(4,4, \"Diesel\", 7000)\n"
   ]
  },
  {
   "cell_type": "code",
   "execution_count": 29,
   "id": "dc82b1b8",
   "metadata": {},
   "outputs": [
    {
     "data": {
      "text/plain": [
       "['__class__',\n",
       " '__delattr__',\n",
       " '__dict__',\n",
       " '__dir__',\n",
       " '__doc__',\n",
       " '__eq__',\n",
       " '__format__',\n",
       " '__ge__',\n",
       " '__getattribute__',\n",
       " '__gt__',\n",
       " '__hash__',\n",
       " '__init__',\n",
       " '__init_subclass__',\n",
       " '__le__',\n",
       " '__lt__',\n",
       " '__module__',\n",
       " '__ne__',\n",
       " '__new__',\n",
       " '__reduce__',\n",
       " '__reduce_ex__',\n",
       " '__repr__',\n",
       " '__setattr__',\n",
       " '__sizeof__',\n",
       " '__str__',\n",
       " '__subclasshook__',\n",
       " '__weakref__',\n",
       " 'doors',\n",
       " 'enginetype',\n",
       " 'horsepowwer',\n",
       " 'windows']"
      ]
     },
     "execution_count": 29,
     "metadata": {},
     "output_type": "execute_result"
    }
   ],
   "source": [
    "dir(truck)"
   ]
  },
  {
   "cell_type": "code",
   "execution_count": 30,
   "id": "9bbe6faf",
   "metadata": {},
   "outputs": [],
   "source": [
    "truck._doors = 6\n"
   ]
  },
  {
   "cell_type": "code",
   "execution_count": 31,
   "id": "7183be01",
   "metadata": {},
   "outputs": [
    {
     "data": {
      "text/plain": [
       "6"
      ]
     },
     "execution_count": 31,
     "metadata": {},
     "output_type": "execute_result"
    }
   ],
   "source": [
    "truck._doors"
   ]
  },
  {
   "cell_type": "code",
   "execution_count": null,
   "id": "c19c8f2d",
   "metadata": {},
   "outputs": [],
   "source": []
  },
  {
   "cell_type": "code",
   "execution_count": 7,
   "id": "90f1568f",
   "metadata": {},
   "outputs": [],
   "source": [
    "audi = Car(4,4, \"Diesel\")\n"
   ]
  },
  {
   "cell_type": "code",
   "execution_count": 8,
   "id": "ae4487b9",
   "metadata": {},
   "outputs": [
    {
     "data": {
      "text/plain": [
       "['__class__',\n",
       " '__delattr__',\n",
       " '__dict__',\n",
       " '__dir__',\n",
       " '__doc__',\n",
       " '__eq__',\n",
       " '__format__',\n",
       " '__ge__',\n",
       " '__getattribute__',\n",
       " '__gt__',\n",
       " '__hash__',\n",
       " '__init__',\n",
       " '__init_subclass__',\n",
       " '__le__',\n",
       " '__lt__',\n",
       " '__module__',\n",
       " '__ne__',\n",
       " '__new__',\n",
       " '__reduce__',\n",
       " '__reduce_ex__',\n",
       " '__repr__',\n",
       " '__setattr__',\n",
       " '__sizeof__',\n",
       " '__str__',\n",
       " '__subclasshook__',\n",
       " '__weakref__',\n",
       " '_doors',\n",
       " '_enginetype',\n",
       " '_windows']"
      ]
     },
     "execution_count": 8,
     "metadata": {},
     "output_type": "execute_result"
    }
   ],
   "source": [
    "dir(audi)"
   ]
  },
  {
   "cell_type": "code",
   "execution_count": 17,
   "id": "62455148",
   "metadata": {},
   "outputs": [],
   "source": [
    "# if i want to see the car class variables\n",
    "audi.windows = 5"
   ]
  },
  {
   "cell_type": "code",
   "execution_count": 18,
   "id": "4ae487be",
   "metadata": {},
   "outputs": [
    {
     "data": {
      "text/plain": [
       "5"
      ]
     },
     "execution_count": 18,
     "metadata": {},
     "output_type": "execute_result"
    }
   ],
   "source": [
    "# this shows that we can access the protected variables it is protected from the child class\n",
    "# so this class will be inherited in that place we couldn't access directly to these variables\n",
    "audi.windows\n"
   ]
  },
  {
   "cell_type": "markdown",
   "id": "b7442f8d",
   "metadata": {},
   "source": [
    "#### working with private variables"
   ]
  },
  {
   "cell_type": "code",
   "execution_count": 34,
   "id": "38773586",
   "metadata": {},
   "outputs": [],
   "source": [
    "## now working with private variables\n",
    "# instead of singel underscore we will write double underscore\n",
    "# private mean that these variables cannot be accessed or modified outside this class\n",
    "class Car():\n",
    "    # constructor \n",
    "    def __init__(self,window, door, enginetype):\n",
    "        self.__windows = window\n",
    "        self.__doors = door\n",
    "        self.__enginetype = enginetype\n",
    "        "
   ]
  },
  {
   "cell_type": "code",
   "execution_count": 35,
   "id": "959adad2",
   "metadata": {},
   "outputs": [],
   "source": [
    "audi1 = Car(4,4,\"Diesel\")\n"
   ]
  },
  {
   "cell_type": "code",
   "execution_count": 37,
   "id": "428024d4",
   "metadata": {},
   "outputs": [
    {
     "data": {
      "text/plain": [
       "['_Car__doors',\n",
       " '_Car__enginetype',\n",
       " '_Car__windows',\n",
       " '__class__',\n",
       " '__delattr__',\n",
       " '__dict__',\n",
       " '__dir__',\n",
       " '__doc__',\n",
       " '__eq__',\n",
       " '__format__',\n",
       " '__ge__',\n",
       " '__getattribute__',\n",
       " '__gt__',\n",
       " '__hash__',\n",
       " '__init__',\n",
       " '__init_subclass__',\n",
       " '__le__',\n",
       " '__lt__',\n",
       " '__module__',\n",
       " '__ne__',\n",
       " '__new__',\n",
       " '__reduce__',\n",
       " '__reduce_ex__',\n",
       " '__repr__',\n",
       " '__setattr__',\n",
       " '__sizeof__',\n",
       " '__str__',\n",
       " '__subclasshook__',\n",
       " '__weakref__']"
      ]
     },
     "execution_count": 37,
     "metadata": {},
     "output_type": "execute_result"
    }
   ],
   "source": [
    "dir(audi1)"
   ]
  },
  {
   "cell_type": "code",
   "execution_count": null,
   "id": "17eed242",
   "metadata": {},
   "outputs": [],
   "source": []
  },
  {
   "cell_type": "code",
   "execution_count": null,
   "id": "3ba2f33c",
   "metadata": {},
   "outputs": [],
   "source": []
  },
  {
   "cell_type": "code",
   "execution_count": null,
   "id": "e19b53f1",
   "metadata": {},
   "outputs": [],
   "source": []
  }
 ],
 "metadata": {
  "kernelspec": {
   "display_name": "Python 3 (ipykernel)",
   "language": "python",
   "name": "python3"
  },
  "language_info": {
   "codemirror_mode": {
    "name": "ipython",
    "version": 3
   },
   "file_extension": ".py",
   "mimetype": "text/x-python",
   "name": "python",
   "nbconvert_exporter": "python",
   "pygments_lexer": "ipython3",
   "version": "3.10.9"
  }
 },
 "nbformat": 4,
 "nbformat_minor": 5
}
